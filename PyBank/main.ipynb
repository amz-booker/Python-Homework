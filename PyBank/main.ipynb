{
 "cells": [
  {
   "cell_type": "code",
   "execution_count": 2,
   "id": "108ade7e-597c-415c-8cc9-1179218baa79",
   "metadata": {},
   "outputs": [],
   "source": [
    "#import modules\n",
    "import csv\n",
    "from pathlib import Path\n",
    "#set path for file\n",
    "budget_data_csv = Path(\"budget_data.csv\")\n",
    "\n",
    "#set the output of the text file\n",
    "text_path = Path(\"output.txt\")"
   ]
  },
  {
   "cell_type": "code",
   "execution_count": 3,
   "id": "92417ce7-4324-42e8-b92c-8b7ff21a2c17",
   "metadata": {},
   "outputs": [],
   "source": [
    "#Set variables\n",
    "total_months = 0\n",
    "total_profitandloss = 0\n",
    "profitandloss = []\n",
    "previousmonth_profitandloss = 0\n",
    "month_of_change = []\n",
    "revenue_change = 0\n",
    "greatest_decrease = [\"\", 9999999]\n",
    "greatest_increase = [\"\", 0]\n",
    "revenue_change_list = []\n",
    "revenue_average = 0"
   ]
  },
  {
   "cell_type": "code",
   "execution_count": 4,
   "id": "87158ffd-20df-4739-b027-f8077011a263",
   "metadata": {},
   "outputs": [],
   "source": [
    "#open the csv file\n",
    "with open(budget_data_csv) as csvfile:  \n",
    "    csvreader = csv.reader(csvfile)\n",
    "   \n",
    "    header = next(csvreader)\n",
    "    first_row = next(csvreader)\n",
    "    total_months = total_months + 1\n",
    "    total_profitandloss = total_profitandloss + int(first_row[1])\n",
    "    previousmonth_profitandloss = int(first_row[1])\n",
    "    #Loop through to find total months\n",
    "    for row in csvreader:\n",
    "\n",
    "        #Count the total of months\n",
    "        total_months += 1\n",
    "\n",
    "\n",
    "        #Calculate the total revenue over the entire period\n",
    "        total_profitandloss = total_profitandloss + int(row[1])\n",
    "\n",
    "        #Calculate the average change in revenue between months over the entire period\n",
    "        revenue_change = int(row[1])- previousmonth_profitandloss\n",
    "        previous_profitandloss = int(row[1])\n",
    "        revenue_change_list = revenue_change_list + [revenue_change]\n",
    "        month_of_change = month_of_change + [row[0]]\n",
    "       \n",
    "\n",
    "        #The greatest increase in revenue (date and amount) over the entire period\n",
    "        if revenue_change>greatest_increase[1]:\n",
    "            greatest_increase[1] = revenue_change\n",
    "            greatest_increase[0] = row[0]\n",
    "\n",
    "        #The greatest decrease in revenue (date and amount) over the entire period\n",
    "        if revenue_change<greatest_decrease[1]:\n",
    "            greatest_decrease[1]= revenue_change\n",
    "            greatest_decrease[0] = row[0]\n",
    "            \n",
    "revenue_average = round(sum(revenue_change_list)/len(revenue_change_list), 2) "
   ]
  },
  {
   "cell_type": "code",
   "execution_count": 5,
   "id": "6cb71865-5e1a-4c91-8a02-df63e949b4fa",
   "metadata": {},
   "outputs": [
    {
     "name": "stdout",
     "output_type": "stream",
     "text": [
      "86\n",
      "38382578\n",
      "-426534.66\n",
      "['Feb-2012', 302709]\n",
      "['Sep-2013', -2064109]\n"
     ]
    }
   ],
   "source": [
    "print(total_months)\n",
    "print(total_profitandloss)\n",
    "print(revenue_average)\n",
    "print(greatest_increase)\n",
    "print(greatest_decrease)"
   ]
  },
  {
   "cell_type": "code",
   "execution_count": 6,
   "id": "10ce7df1-acbe-4dee-91a8-d2fc5b3fd902",
   "metadata": {},
   "outputs": [],
   "source": [
    "#write changes to csv\n",
    "with open(text_path, 'w') as file:\n",
    "    file.write(f\"Financial Analysis\\n\")\n",
    "    file.write(f\"---------------------\\n\")\n",
    "    file.write(f\"Total Months: {total_months}\\n\")\n",
    "    file.write(f\"Total Revenue: ${total_profitandloss}\\n\")\n",
    "    file.write(f\"Average Revenue Change ${revenue_average}\\n\")\n",
    "    file.write(f\"Greatest Increase in Revenue: {greatest_increase[0]}, (${greatest_increase[1]})\\n\")\n",
    "    file.write(f\"Greatest Decrease in Revenue: {greatest_decrease[0]}, (${greatest_decrease[1]})\\n\")"
   ]
  }
 ],
 "metadata": {
  "kernelspec": {
   "display_name": "Python 3 (ipykernel)",
   "language": "python",
   "name": "python3"
  },
  "language_info": {
   "codemirror_mode": {
    "name": "ipython",
    "version": 3
   },
   "file_extension": ".py",
   "mimetype": "text/x-python",
   "name": "python",
   "nbconvert_exporter": "python",
   "pygments_lexer": "ipython3",
   "version": "3.9.7"
  }
 },
 "nbformat": 4,
 "nbformat_minor": 5
}
